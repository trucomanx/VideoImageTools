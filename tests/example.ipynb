{
 "cells": [
  {
   "cell_type": "code",
   "execution_count": 1,
   "id": "40a25d22-37d7-493d-858b-402c00224ca0",
   "metadata": {},
   "outputs": [],
   "source": [
    "#import os\n",
    "import sys\n",
    "sys.path.append('../src');\n",
    "import VideoImageTools as vit\n",
    "import cv2\n"
   ]
  },
  {
   "cell_type": "code",
   "execution_count": 2,
   "id": "91fb32cf-a802-472d-a1d7-5f97c12ab6d0",
   "metadata": {},
   "outputs": [
    {
     "name": "stdout",
     "output_type": "stream",
     "text": [
      "working end\n"
     ]
    }
   ],
   "source": [
    "vin_path ='/mnt/boveda/DATASETs/drhouse.mp4';\n",
    "vout_path='/mnt/boveda/DATASETs/drhouse-salida.mp4';\n",
    "\n",
    "def my_func(frame):\n",
    "    \n",
    "    x=10;\n",
    "    y=20;\n",
    "    w=64;\n",
    "    h=64;\n",
    "    color=(0,255,0);\n",
    "    thickness=2;\n",
    "    \n",
    "    cv2.rectangle(frame,(x,y),(x+w,y+h),color,thickness);\n",
    "    \n",
    "    return frame;\n",
    "\n",
    "vit.apply_func_over_video_outmp4(my_func,vin_path,vout_path)\n",
    "\n",
    "print('working end')"
   ]
  },
  {
   "cell_type": "code",
   "execution_count": null,
   "id": "e4988749-3fbb-499e-8e56-e85486acdc82",
   "metadata": {},
   "outputs": [],
   "source": []
  }
 ],
 "metadata": {
  "kernelspec": {
   "display_name": "Python 3",
   "language": "python",
   "name": "python3"
  },
  "language_info": {
   "codemirror_mode": {
    "name": "ipython",
    "version": 3
   },
   "file_extension": ".py",
   "mimetype": "text/x-python",
   "name": "python",
   "nbconvert_exporter": "python",
   "pygments_lexer": "ipython3",
   "version": "3.8.10"
  }
 },
 "nbformat": 4,
 "nbformat_minor": 5
}
