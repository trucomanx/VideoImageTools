{
 "cells": [
  {
   "cell_type": "code",
   "execution_count": 1,
   "id": "40a25d22-37d7-493d-858b-402c00224ca0",
   "metadata": {},
   "outputs": [],
   "source": [
    "#import os\n",
    "import sys\n",
    "sys.path.append('/home/fernando/Downloads/TESIS-DOUTORADO-2/PESQUISA/libraries/OpenPifPafTools/src');\n",
    "sys.path.append('../src');\n",
    "\n",
    "import VideoImageTools as vit\n",
    "import openpifpaf\n",
    "import OpenPifPafTools.OpenPifPafAnnotations as oppt\n",
    "import matplotlib.pyplot as plt\n",
    "\n",
    "import cv2\n",
    "import numpy as np\n",
    "from PIL import Image"
   ]
  },
  {
   "cell_type": "code",
   "execution_count": null,
   "id": "91fb32cf-a802-472d-a1d7-5f97c12ab6d0",
   "metadata": {},
   "outputs": [
    {
     "data": {
      "application/vnd.jupyter.widget-view+json": {
       "model_id": "9f343a33bcc04398a462e00449571903",
       "version_major": 2,
       "version_minor": 0
      },
      "text/plain": [
       "Working:   0%|           [ time left: ? ]"
      ]
     },
     "metadata": {},
     "output_type": "display_data"
    }
   ],
   "source": [
    "vin_path ='/mnt/boveda/DATASETs/DANCE-VIDEOS/dance1_medium2.mp4';\n",
    "vout_path='/mnt/boveda/DATASETs/DANCE-VIDEOS/output_borrame_dance1.mp4';\n",
    "\n",
    "\n",
    "\n",
    "def my_func(predictor,frame):\n",
    "    img_tmp = cv2.cvtColor(frame, cv2.COLOR_BGR2RGB);\n",
    "    pil_im = Image.fromarray(img_tmp);\n",
    "    \n",
    "    predictions, gt_anns, image_meta = predictor.pil_image(pil_im);\n",
    "    \n",
    "    img_pil_tmp=oppt.write_openpifpaf_annotation_in_pil_img(pil_im,predictions,method='temporal_file');\n",
    "    \n",
    "    frame_rgb=np.asarray(img_pil_tmp);\n",
    "    \n",
    "    frame=cv2.cvtColor(frame_rgb, cv2.COLOR_RGB2BGR) # the color is converted from RGB to BGR format\n",
    "    \n",
    "    return frame;\n",
    "\n",
    "predictor = openpifpaf.Predictor(checkpoint='shufflenetv2k16')#'shufflenetv2k16-wholebody\n",
    "vit.apply_func_predictor_over_video_outmp4(my_func,predictor,vin_path,vout_path)\n",
    "\n",
    "print('working end')"
   ]
  },
  {
   "cell_type": "code",
   "execution_count": null,
   "id": "5ca236f6-e590-4a5c-b4ae-1d84069add5c",
   "metadata": {},
   "outputs": [],
   "source": []
  }
 ],
 "metadata": {
  "kernelspec": {
   "display_name": "Python 3",
   "language": "python",
   "name": "python3"
  },
  "language_info": {
   "codemirror_mode": {
    "name": "ipython",
    "version": 3
   },
   "file_extension": ".py",
   "mimetype": "text/x-python",
   "name": "python",
   "nbconvert_exporter": "python",
   "pygments_lexer": "ipython3",
   "version": "3.8.10"
  }
 },
 "nbformat": 4,
 "nbformat_minor": 5
}
